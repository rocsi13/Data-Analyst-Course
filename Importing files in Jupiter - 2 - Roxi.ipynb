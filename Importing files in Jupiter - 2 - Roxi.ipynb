{
 "cells": [
  {
   "cell_type": "code",
   "execution_count": null,
   "id": "12029918-d5d7-48a1-abff-a9fbbdb6d371",
   "metadata": {},
   "outputs": [],
   "source": [
    "import pandas as pd"
   ]
  },
  {
   "cell_type": "code",
   "execution_count": null,
   "id": "7a251352-4145-4728-ab62-4b6c63352b4c",
   "metadata": {},
   "outputs": [],
   "source": [
    "pd.read_csv('Lending-company.csv')"
   ]
  },
  {
   "cell_type": "code",
   "execution_count": null,
   "id": "a8bebb20-d84b-47e9-a8b3-cba1fb47f5bf",
   "metadata": {},
   "outputs": [],
   "source": [
    "pd.read_csv(\"C:/Users/BBB/Desktop/data analyst/Cursuri/S10 - Working with Text Files/L21/Lending-company.csv\")"
   ]
  },
  {
   "cell_type": "code",
   "execution_count": null,
   "id": "b4098fe1-2a9c-481a-bbb8-3e8c271b9903",
   "metadata": {},
   "outputs": [],
   "source": [
    "import os, inspect"
   ]
  },
  {
   "cell_type": "code",
   "execution_count": null,
   "id": "d6924f23-fb00-4fa1-8ef1-699c4be0be95",
   "metadata": {},
   "outputs": [],
   "source": [
    "if '_file_' not in locals():\n",
    "    fx = inspect.getframeinfo(inspect.currentframe())[0]\n",
    "else:\n",
    "    fx = _file_"
   ]
  },
  {
   "cell_type": "code",
   "execution_count": null,
   "id": "64d6ad48-f282-4463-8e4b-21e40e9ef711",
   "metadata": {},
   "outputs": [],
   "source": [
    "os_dir = os.path.dirname(os.path.abspath(fx))\n",
    "print(os_dir)"
   ]
  },
  {
   "cell_type": "code",
   "execution_count": null,
   "id": "e14f7187-0f8c-4665-89a5-6bab317978fc",
   "metadata": {},
   "outputs": [],
   "source": [
    "pd.read_csv(os.path.join(os_dir, \"Lending-company.csv\"))"
   ]
  }
 ],
 "metadata": {
  "kernelspec": {
   "display_name": "Python 3 (ipykernel)",
   "language": "python",
   "name": "python3"
  },
  "language_info": {
   "codemirror_mode": {
    "name": "ipython",
    "version": 3
   },
   "file_extension": ".py",
   "mimetype": "text/x-python",
   "name": "python",
   "nbconvert_exporter": "python",
   "pygments_lexer": "ipython3",
   "version": "3.11.7"
  }
 },
 "nbformat": 4,
 "nbformat_minor": 5
}
