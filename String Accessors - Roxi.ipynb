{
 "cells": [
  {
   "cell_type": "code",
   "execution_count": 1,
   "id": "5ded217d-b776-4ff6-b1c1-fd4474972c52",
   "metadata": {},
   "outputs": [],
   "source": [
    "import pandas as pd"
   ]
  },
  {
   "cell_type": "code",
   "execution_count": 2,
   "id": "d456a229-1115-4147-8e03-490dd4c48c7a",
   "metadata": {},
   "outputs": [
    {
     "data": {
      "text/plain": [
       "0    employee_satisfaction_rating\n",
       "1             employee_churn_rate\n",
       "dtype: object"
      ]
     },
     "execution_count": 2,
     "metadata": {},
     "output_type": "execute_result"
    }
   ],
   "source": [
    "operational_kpis = pd.Series([\"employee_satisfaction_rating\", \"employee_churn_rate\"])\n",
    "operational_kpis"
   ]
  },
  {
   "cell_type": "code",
   "execution_count": 3,
   "id": "dba33275-f9b8-44c1-a142-a01abf616f57",
   "metadata": {},
   "outputs": [
    {
     "ename": "AttributeError",
     "evalue": "'Series' object has no attribute 'lstrip'",
     "output_type": "error",
     "traceback": [
      "\u001b[1;31m---------------------------------------------------------------------------\u001b[0m",
      "\u001b[1;31mAttributeError\u001b[0m                            Traceback (most recent call last)",
      "\u001b[1;32m~\\AppData\\Local\\Temp\\ipykernel_15828\\4168274822.py\u001b[0m in \u001b[0;36m?\u001b[1;34m()\u001b[0m\n\u001b[1;32m----> 1\u001b[1;33m \u001b[0moperational_kpis\u001b[0m\u001b[1;33m.\u001b[0m\u001b[0mlstrip\u001b[0m\u001b[1;33m(\u001b[0m\u001b[1;34m'employee'\u001b[0m\u001b[1;33m)\u001b[0m\u001b[1;33m\u001b[0m\u001b[1;33m\u001b[0m\u001b[0m\n\u001b[0m",
      "\u001b[1;32m~\\anaconda3\\Lib\\site-packages\\pandas\\core\\generic.py\u001b[0m in \u001b[0;36m?\u001b[1;34m(self, name)\u001b[0m\n\u001b[0;32m   6295\u001b[0m             \u001b[1;32mand\u001b[0m \u001b[0mname\u001b[0m \u001b[1;32mnot\u001b[0m \u001b[1;32min\u001b[0m \u001b[0mself\u001b[0m\u001b[1;33m.\u001b[0m\u001b[0m_accessors\u001b[0m\u001b[1;33m\u001b[0m\u001b[1;33m\u001b[0m\u001b[0m\n\u001b[0;32m   6296\u001b[0m             \u001b[1;32mand\u001b[0m \u001b[0mself\u001b[0m\u001b[1;33m.\u001b[0m\u001b[0m_info_axis\u001b[0m\u001b[1;33m.\u001b[0m\u001b[0m_can_hold_identifiers_and_holds_name\u001b[0m\u001b[1;33m(\u001b[0m\u001b[0mname\u001b[0m\u001b[1;33m)\u001b[0m\u001b[1;33m\u001b[0m\u001b[1;33m\u001b[0m\u001b[0m\n\u001b[0;32m   6297\u001b[0m         ):\n\u001b[0;32m   6298\u001b[0m             \u001b[1;32mreturn\u001b[0m \u001b[0mself\u001b[0m\u001b[1;33m[\u001b[0m\u001b[0mname\u001b[0m\u001b[1;33m]\u001b[0m\u001b[1;33m\u001b[0m\u001b[1;33m\u001b[0m\u001b[0m\n\u001b[1;32m-> 6299\u001b[1;33m         \u001b[1;32mreturn\u001b[0m \u001b[0mobject\u001b[0m\u001b[1;33m.\u001b[0m\u001b[0m__getattribute__\u001b[0m\u001b[1;33m(\u001b[0m\u001b[0mself\u001b[0m\u001b[1;33m,\u001b[0m \u001b[0mname\u001b[0m\u001b[1;33m)\u001b[0m\u001b[1;33m\u001b[0m\u001b[1;33m\u001b[0m\u001b[0m\n\u001b[0m",
      "\u001b[1;31mAttributeError\u001b[0m: 'Series' object has no attribute 'lstrip'"
     ]
    }
   ],
   "source": [
    "operational_kpis.lstrip('employee')"
   ]
  },
  {
   "cell_type": "code",
   "execution_count": 4,
   "id": "c717b3b0-1c3d-47ef-90a1-df2901ea0f1a",
   "metadata": {},
   "outputs": [
    {
     "data": {
      "text/plain": [
       "'_satisfaction_rating'"
      ]
     },
     "execution_count": 4,
     "metadata": {},
     "output_type": "execute_result"
    }
   ],
   "source": [
    "operational_kpis[0].lstrip('employee')"
   ]
  },
  {
   "cell_type": "code",
   "execution_count": 5,
   "id": "8ada9f3d-1fb8-44a7-9fdb-9ffe863a10ff",
   "metadata": {},
   "outputs": [
    {
     "data": {
      "text/plain": [
       "'_churn_rate'"
      ]
     },
     "execution_count": 5,
     "metadata": {},
     "output_type": "execute_result"
    }
   ],
   "source": [
    "operational_kpis[1].lstrip('employee')"
   ]
  },
  {
   "cell_type": "code",
   "execution_count": 6,
   "id": "80444147-c930-4cfd-a090-419248876800",
   "metadata": {},
   "outputs": [
    {
     "data": {
      "text/plain": [
       "<pandas.core.strings.accessor.StringMethods at 0x20a4ecdd090>"
      ]
     },
     "execution_count": 6,
     "metadata": {},
     "output_type": "execute_result"
    }
   ],
   "source": [
    "operational_kpis.str"
   ]
  },
  {
   "cell_type": "code",
   "execution_count": 7,
   "id": "f0c54f32-f4cc-48f6-b18d-aa38c6ce8713",
   "metadata": {},
   "outputs": [
    {
     "data": {
      "text/plain": [
       "0    m\n",
       "1    m\n",
       "dtype: object"
      ]
     },
     "execution_count": 7,
     "metadata": {},
     "output_type": "execute_result"
    }
   ],
   "source": [
    "operational_kpis.str[1]"
   ]
  },
  {
   "cell_type": "code",
   "execution_count": 8,
   "id": "3a777acf-40c9-4025-b964-9bd542914817",
   "metadata": {},
   "outputs": [
    {
     "data": {
      "text/plain": [
       "0    _satisfaction_rating\n",
       "1             _churn_rate\n",
       "dtype: object"
      ]
     },
     "execution_count": 8,
     "metadata": {},
     "output_type": "execute_result"
    }
   ],
   "source": [
    "operational_kpis.str.lstrip('employee')"
   ]
  },
  {
   "cell_type": "code",
   "execution_count": 9,
   "id": "074bc1fd-bd8d-4163-b1af-6977cb640406",
   "metadata": {},
   "outputs": [
    {
     "data": {
      "text/plain": [
       "0    Test data\n",
       "1           45\n",
       "dtype: object"
      ]
     },
     "execution_count": 9,
     "metadata": {},
     "output_type": "execute_result"
    }
   ],
   "source": [
    "test_series = pd.Series(['Test_data', 45])\n",
    "test_series"
   ]
  },
  {
   "cell_type": "code",
   "execution_count": 10,
   "id": "88c452f5-df80-4f3c-8f93-4a14a53db1b0",
   "metadata": {},
   "outputs": [
    {
     "data": {
      "text/plain": [
       "0     data\n",
       "1      NaN\n",
       "dtype: object"
      ]
     },
     "execution_count": 10,
     "metadata": {},
     "output_type": "execute_result"
    }
   ],
   "source": [
    "test_series.str.lstrip('Test_')"
   ]
  },
  {
   "cell_type": "code",
   "execution_count": 11,
   "id": "5cb95b97-cdda-4f9a-a8fe-701b29c2a8d9",
   "metadata": {},
   "outputs": [
    {
     "data": {
      "text/plain": [
       "0    Test_data\n",
       "1           45\n",
       "dtype: object"
      ]
     },
     "execution_count": 11,
     "metadata": {},
     "output_type": "execute_result"
    }
   ],
   "source": [
    "test_series = pd.Series(['Test_data', '45'])\n",
    "test_series"
   ]
  },
  {
   "cell_type": "code",
   "execution_count": 12,
   "id": "0719b80e-50b1-433a-8043-2d81402d7bfa",
   "metadata": {},
   "outputs": [
    {
     "data": {
      "text/plain": [
       "0    data\n",
       "1      45\n",
       "dtype: object"
      ]
     },
     "execution_count": 12,
     "metadata": {},
     "output_type": "execute_result"
    }
   ],
   "source": [
    "test_series.str.lstrip('Test_')"
   ]
  },
  {
   "cell_type": "code",
   "execution_count": 15,
   "id": "b90271e3-d1d6-4955-89ac-a2bae6b17e18",
   "metadata": {},
   "outputs": [
    {
     "data": {
      "text/plain": [
       "0    $150,000\n",
       "1    $470,000\n",
       "2    $300,100\n",
       "dtype: object"
      ]
     },
     "execution_count": 15,
     "metadata": {},
     "output_type": "execute_result"
    }
   ],
   "source": [
    "house_prices = pd.Series(['$150,000', '$470,000', '$300,100'])\n",
    "house_prices"
   ]
  },
  {
   "cell_type": "code",
   "execution_count": 16,
   "id": "57957b79-e199-40b3-b1a0-297239f96f51",
   "metadata": {},
   "outputs": [
    {
     "data": {
      "text/plain": [
       "0    True\n",
       "1    True\n",
       "2    True\n",
       "dtype: bool"
      ]
     },
     "execution_count": 16,
     "metadata": {},
     "output_type": "execute_result"
    }
   ],
   "source": [
    "house_prices.str.contains('$')"
   ]
  },
  {
   "cell_type": "code",
   "execution_count": 22,
   "id": "69b765fb-7dc8-460c-bfc9-5439aacea9a8",
   "metadata": {},
   "outputs": [
    {
     "data": {
      "text/plain": [
       "0       Peterson\n",
       "1    Fitzpatrick\n",
       "2           Cruz\n",
       "dtype: object"
      ]
     },
     "execution_count": 22,
     "metadata": {},
     "output_type": "execute_result"
    }
   ],
   "source": [
    "import pandas as pd;\n",
    "names = pd.Series([\"Martin Peterson\", \"John Fitzpatrick\", \"Kate Cruz\"])\n",
    "last_names = names.str.split(' ').str[1]\n",
    "last_names\n"
   ]
  },
  {
   "cell_type": "code",
   "execution_count": 23,
   "id": "9a0c8836-e957-4c8c-9fd9-dedcd42e0709",
   "metadata": {},
   "outputs": [
    {
     "name": "stdout",
     "output_type": "stream",
     "text": [
      "0     True\n",
      "1    False\n",
      "2    False\n",
      "dtype: bool\n"
     ]
    }
   ],
   "source": [
    "print(last_names.str.contains('s'))"
   ]
  },
  {
   "cell_type": "markdown",
   "id": "3b5ce9d0-325e-4717-918e-d1b8999d21d8",
   "metadata": {},
   "source": [
    ".format() - is aplicable only to string values"
   ]
  },
  {
   "cell_type": "code",
   "execution_count": 24,
   "id": "7f05e18a-bd19-4d88-8114-296dad597889",
   "metadata": {},
   "outputs": [
    {
     "data": {
      "text/plain": [
       "(1, 3, 12)"
      ]
     },
     "execution_count": 24,
     "metadata": {},
     "output_type": "execute_result"
    }
   ],
   "source": [
    "time_horizon = 1, 3, 12\n",
    "time_horizon"
   ]
  },
  {
   "cell_type": "code",
   "execution_count": 26,
   "id": "28a8cf8e-0739-4847-a4b3-2afd8ec08ca5",
   "metadata": {},
   "outputs": [
    {
     "data": {
      "text/plain": [
       "['Product A', 'Product B']"
      ]
     },
     "execution_count": 26,
     "metadata": {},
     "output_type": "execute_result"
    }
   ],
   "source": [
    "products = ['Product A', 'Product B']\n",
    "products"
   ]
  },
  {
   "cell_type": "code",
   "execution_count": 32,
   "id": "4810cae8-c57c-4e0c-a7d0-2b998a10b008",
   "metadata": {},
   "outputs": [
    {
     "data": {
      "text/plain": [
       "'Expected sales for a period of 12 month(s) for Product B:'"
      ]
     },
     "execution_count": 32,
     "metadata": {},
     "output_type": "execute_result"
    }
   ],
   "source": [
    "'Expected sales for a period of {0} month(s) for {1}:'.format(time_horizon[2], products[1])"
   ]
  },
  {
   "cell_type": "code",
   "execution_count": 35,
   "id": "ca2b1637-29de-4a11-9e9a-b01f6a622016",
   "metadata": {},
   "outputs": [
    {
     "data": {
      "text/plain": [
       "'Expected sales for a period of 3 month(s) for Product B: $10000'"
      ]
     },
     "execution_count": 35,
     "metadata": {},
     "output_type": "execute_result"
    }
   ],
   "source": [
    "'Expected sales for a period of {t_hor[1]} month(s) for {prod[1]}: ${sales}'.format(t_hor = time_horizon, prod = products, sales = 10000)"
   ]
  },
  {
   "cell_type": "code",
   "execution_count": 38,
   "id": "787c5dbc-8823-4d6d-94d6-08cb9c7cf67e",
   "metadata": {},
   "outputs": [
    {
     "name": "stdout",
     "output_type": "stream",
     "text": [
      "Company A expects their next year's sales of Q3 to increase.\n"
     ]
    }
   ],
   "source": [
    "companies = ['Company A', 'Company B']\n",
    "quarter = [1, 2, 3, 4]\n",
    "sales_performance_prediction = ['increase', 'decrease', 'remain the same']\n",
    "print(\"{} expects their next year's sales of Q{} to {}.\".format(companies[0], quarter[2], sales_performance_prediction[0]))"
   ]
  },
  {
   "cell_type": "code",
   "execution_count": null,
   "id": "2964d1e6-4817-465a-be0e-e5127bb5e00c",
   "metadata": {},
   "outputs": [],
   "source": []
  }
 ],
 "metadata": {
  "kernelspec": {
   "display_name": "Python 3 (ipykernel)",
   "language": "python",
   "name": "python3"
  },
  "language_info": {
   "codemirror_mode": {
    "name": "ipython",
    "version": 3
   },
   "file_extension": ".py",
   "mimetype": "text/x-python",
   "name": "python",
   "nbconvert_exporter": "python",
   "pygments_lexer": "ipython3",
   "version": "3.11.7"
  }
 },
 "nbformat": 4,
 "nbformat_minor": 5
}
