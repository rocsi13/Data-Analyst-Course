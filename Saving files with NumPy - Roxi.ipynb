{
 "cells": [
  {
   "cell_type": "markdown",
   "id": "70f7ab5c-0f07-4f3b-b2ac-95f01e64ab27",
   "metadata": {},
   "source": [
    "Saving Files with NumPy"
   ]
  },
  {
   "cell_type": "code",
   "execution_count": 1,
   "id": "2926614d-5f20-4762-bd9a-8e25dfb56aa1",
   "metadata": {},
   "outputs": [],
   "source": [
    "import numpy as np"
   ]
  },
  {
   "cell_type": "markdown",
   "id": "123ad4ba-1eec-4a3d-b3d4-0618e816b5d6",
   "metadata": {},
   "source": [
    "np.load() + np.save()"
   ]
  },
  {
   "cell_type": "code",
   "execution_count": 4,
   "id": "329ad619-8e9d-4a10-90bf-1fbf45959635",
   "metadata": {
    "scrolled": true
   },
   "outputs": [
    {
     "name": "stdout",
     "output_type": "stream",
     "text": [
      "[['LoanID' 'StringID' 'Product' ... 'Location' 'Region' 'TotalPrice']\n",
      " ['1' 'id_1' 'Product B' ... 'Location 2' 'Region 2' '16600.0']\n",
      " ['2' 'id_2' 'Product B' ... 'Location 3' '' '16600.0']\n",
      " ...\n",
      " ['1041' 'id_1041' 'Product B' ... 'Location 23' 'Region 4' '16600.0']\n",
      " ['1042' 'id_1042' 'Product C' ... 'Location 52' 'Region 6' '15600.0']\n",
      " ['1043' 'id_1043' 'Product B' ... 'Location 142' 'Region 6' '16600.0']]\n"
     ]
    }
   ],
   "source": [
    "lending_co = np.genfromtxt('Lending-Company-Saving.csv',\n",
    "                           delimiter = ',', \n",
    "                           dtype = str)\n",
    "print(lending_co)"
   ]
  },
  {
   "cell_type": "code",
   "execution_count": 5,
   "id": "9e8108c8-2677-4f1f-827f-5a30f057904f",
   "metadata": {},
   "outputs": [],
   "source": [
    "np.save(\"Lending-Company-Saving\", lending_co)"
   ]
  },
  {
   "cell_type": "code",
   "execution_count": 6,
   "id": "7492184e-cf04-433b-877d-d6b847468ff1",
   "metadata": {},
   "outputs": [],
   "source": [
    "lending_data_save = np.load('Lending-Company-Saving.npy')"
   ]
  },
  {
   "cell_type": "code",
   "execution_count": 7,
   "id": "498d3cd2-e7ff-4dae-bd4b-0f81b4b7c53b",
   "metadata": {},
   "outputs": [
    {
     "name": "stdout",
     "output_type": "stream",
     "text": [
      "[['LoanID' 'StringID' 'Product' ... 'Location' 'Region' 'TotalPrice']\n",
      " ['1' 'id_1' 'Product B' ... 'Location 2' 'Region 2' '16600.0']\n",
      " ['2' 'id_2' 'Product B' ... 'Location 3' '' '16600.0']\n",
      " ...\n",
      " ['1041' 'id_1041' 'Product B' ... 'Location 23' 'Region 4' '16600.0']\n",
      " ['1042' 'id_1042' 'Product C' ... 'Location 52' 'Region 6' '15600.0']\n",
      " ['1043' 'id_1043' 'Product B' ... 'Location 142' 'Region 6' '16600.0']]\n"
     ]
    }
   ],
   "source": [
    "print(lending_data_save)"
   ]
  },
  {
   "cell_type": "code",
   "execution_count": 8,
   "id": "64be3239-9b2e-401c-983a-9095f838efc7",
   "metadata": {},
   "outputs": [
    {
     "data": {
      "text/plain": [
       "True"
      ]
     },
     "execution_count": 8,
     "metadata": {},
     "output_type": "execute_result"
    }
   ],
   "source": [
    "np.array_equal(lending_co, lending_data_save)"
   ]
  },
  {
   "cell_type": "markdown",
   "id": "6aa2a9de-a0ba-4b42-8340-29b3db78f845",
   "metadata": {},
   "source": [
    "np.savez() - crates an .npz = like an archive of NPYs that can store multiple arrays"
   ]
  },
  {
   "cell_type": "code",
   "execution_count": 9,
   "id": "31804c3e-0a52-43e4-b254-45f57180f08c",
   "metadata": {},
   "outputs": [],
   "source": [
    "lending_co = np.genfromtxt('Lending-Company-Saving.csv',\n",
    "                           delimiter = ',', \n",
    "                           dtype = str)\n",
    "lending_data_save = np.load('Lending-Company-Saving.npy')"
   ]
  },
  {
   "cell_type": "code",
   "execution_count": 12,
   "id": "c69dc820-a1a9-4d9c-aff7-2ee5426c1ecb",
   "metadata": {},
   "outputs": [],
   "source": [
    "np.savez(\"Lending-Company-Saving\", lending_co, lending_data_save)"
   ]
  },
  {
   "cell_type": "code",
   "execution_count": 13,
   "id": "81633085-b3c2-41a1-920d-063e89657489",
   "metadata": {},
   "outputs": [],
   "source": [
    "lending_data_savez = np.load('Lending-Company-Saving.npz')"
   ]
  },
  {
   "cell_type": "code",
   "execution_count": 15,
   "id": "d7d7fb7a-edf0-42a3-b04d-0c560e9ae0fc",
   "metadata": {},
   "outputs": [
    {
     "name": "stdout",
     "output_type": "stream",
     "text": [
      "[['LoanID' 'StringID' 'Product' ... 'Location' 'Region' 'TotalPrice']\n",
      " ['1' 'id_1' 'Product B' ... 'Location 2' 'Region 2' '16600.0']\n",
      " ['2' 'id_2' 'Product B' ... 'Location 3' '' '16600.0']\n",
      " ...\n",
      " ['1041' 'id_1041' 'Product B' ... 'Location 23' 'Region 4' '16600.0']\n",
      " ['1042' 'id_1042' 'Product C' ... 'Location 52' 'Region 6' '15600.0']\n",
      " ['1043' 'id_1043' 'Product B' ... 'Location 142' 'Region 6' '16600.0']]\n"
     ]
    }
   ],
   "source": [
    "print(lending_data_savez[\"arr_0\"])"
   ]
  },
  {
   "cell_type": "code",
   "execution_count": 16,
   "id": "4176f661-8840-46a8-bfc6-134450c2e2fb",
   "metadata": {},
   "outputs": [
    {
     "name": "stdout",
     "output_type": "stream",
     "text": [
      "[['LoanID' 'StringID' 'Product' ... 'Location' 'Region' 'TotalPrice']\n",
      " ['1' 'id_1' 'Product B' ... 'Location 2' 'Region 2' '16600.0']\n",
      " ['2' 'id_2' 'Product B' ... 'Location 3' '' '16600.0']\n",
      " ...\n",
      " ['1041' 'id_1041' 'Product B' ... 'Location 23' 'Region 4' '16600.0']\n",
      " ['1042' 'id_1042' 'Product C' ... 'Location 52' 'Region 6' '15600.0']\n",
      " ['1043' 'id_1043' 'Product B' ... 'Location 142' 'Region 6' '16600.0']]\n"
     ]
    }
   ],
   "source": [
    "print(lending_data_savez[\"arr_1\"])"
   ]
  },
  {
   "cell_type": "code",
   "execution_count": 17,
   "id": "d65f438d-cd7b-4efd-a703-b041e6dedba2",
   "metadata": {},
   "outputs": [
    {
     "ename": "KeyError",
     "evalue": "'arr_2 is not a file in the archive'",
     "output_type": "error",
     "traceback": [
      "\u001b[1;31m---------------------------------------------------------------------------\u001b[0m",
      "\u001b[1;31mKeyError\u001b[0m                                  Traceback (most recent call last)",
      "Cell \u001b[1;32mIn[17], line 1\u001b[0m\n\u001b[1;32m----> 1\u001b[0m \u001b[38;5;28mprint\u001b[39m(lending_data_savez[\u001b[38;5;124m\"\u001b[39m\u001b[38;5;124marr_2\u001b[39m\u001b[38;5;124m\"\u001b[39m])\n",
      "File \u001b[1;32m~\\anaconda3\\Lib\\site-packages\\numpy\\lib\\npyio.py:263\u001b[0m, in \u001b[0;36mNpzFile.__getitem__\u001b[1;34m(self, key)\u001b[0m\n\u001b[0;32m    261\u001b[0m         \u001b[38;5;28;01mreturn\u001b[39;00m \u001b[38;5;28mself\u001b[39m\u001b[38;5;241m.\u001b[39mzip\u001b[38;5;241m.\u001b[39mread(key)\n\u001b[0;32m    262\u001b[0m \u001b[38;5;28;01melse\u001b[39;00m:\n\u001b[1;32m--> 263\u001b[0m     \u001b[38;5;28;01mraise\u001b[39;00m \u001b[38;5;167;01mKeyError\u001b[39;00m(\u001b[38;5;124mf\u001b[39m\u001b[38;5;124m\"\u001b[39m\u001b[38;5;132;01m{\u001b[39;00mkey\u001b[38;5;132;01m}\u001b[39;00m\u001b[38;5;124m is not a file in the archive\u001b[39m\u001b[38;5;124m\"\u001b[39m)\n",
      "\u001b[1;31mKeyError\u001b[0m: 'arr_2 is not a file in the archive'"
     ]
    }
   ],
   "source": [
    "print(lending_data_savez[\"arr_2\"])"
   ]
  },
  {
   "cell_type": "code",
   "execution_count": 18,
   "id": "03701fe0-42ce-49a8-ba33-77734b398c8a",
   "metadata": {},
   "outputs": [],
   "source": [
    "np.savez(\"Lending-Company-Saving\", company = lending_co, data_save = lending_data_save)"
   ]
  },
  {
   "cell_type": "code",
   "execution_count": 19,
   "id": "f202ba85-0484-4a95-a5ec-1a29b87ea867",
   "metadata": {},
   "outputs": [],
   "source": [
    "lending_data_savez = np.load('Lending-Company-Saving.npz')"
   ]
  },
  {
   "cell_type": "code",
   "execution_count": 21,
   "id": "1546e20e-4670-4e9c-9e00-b26b6232e0f2",
   "metadata": {},
   "outputs": [
    {
     "data": {
      "text/plain": [
       "['company', 'data_save']"
      ]
     },
     "execution_count": 21,
     "metadata": {},
     "output_type": "execute_result"
    }
   ],
   "source": [
    "lending_data_savez.files"
   ]
  },
  {
   "cell_type": "code",
   "execution_count": 22,
   "id": "a0ea63e5-58e8-436f-a030-c89021256ba3",
   "metadata": {},
   "outputs": [
    {
     "name": "stdout",
     "output_type": "stream",
     "text": [
      "[['LoanID' 'StringID' 'Product' ... 'Location' 'Region' 'TotalPrice']\n",
      " ['1' 'id_1' 'Product B' ... 'Location 2' 'Region 2' '16600.0']\n",
      " ['2' 'id_2' 'Product B' ... 'Location 3' '' '16600.0']\n",
      " ...\n",
      " ['1041' 'id_1041' 'Product B' ... 'Location 23' 'Region 4' '16600.0']\n",
      " ['1042' 'id_1042' 'Product C' ... 'Location 52' 'Region 6' '15600.0']\n",
      " ['1043' 'id_1043' 'Product B' ... 'Location 142' 'Region 6' '16600.0']]\n"
     ]
    }
   ],
   "source": [
    "print(lending_data_savez[\"company\"])"
   ]
  },
  {
   "cell_type": "code",
   "execution_count": 23,
   "id": "4574ab0b-0043-46a0-b395-798af1d21df1",
   "metadata": {},
   "outputs": [
    {
     "name": "stdout",
     "output_type": "stream",
     "text": [
      "[['LoanID' 'StringID' 'Product' ... 'Location' 'Region' 'TotalPrice']\n",
      " ['1' 'id_1' 'Product B' ... 'Location 2' 'Region 2' '16600.0']\n",
      " ['2' 'id_2' 'Product B' ... 'Location 3' '' '16600.0']\n",
      " ...\n",
      " ['1041' 'id_1041' 'Product B' ... 'Location 23' 'Region 4' '16600.0']\n",
      " ['1042' 'id_1042' 'Product C' ... 'Location 52' 'Region 6' '15600.0']\n",
      " ['1043' 'id_1043' 'Product B' ... 'Location 142' 'Region 6' '16600.0']]\n"
     ]
    }
   ],
   "source": [
    "print(lending_data_savez[\"data_save\"])"
   ]
  },
  {
   "cell_type": "code",
   "execution_count": 24,
   "id": "6e48999b-2048-4015-b286-ac815228335d",
   "metadata": {},
   "outputs": [
    {
     "data": {
      "text/plain": [
       "True"
      ]
     },
     "execution_count": 24,
     "metadata": {},
     "output_type": "execute_result"
    }
   ],
   "source": [
    "np.array_equal(lending_data_savez[\"data_save\"], lending_data_savez[\"company\"])"
   ]
  },
  {
   "cell_type": "markdown",
   "id": "0f405efe-7934-498b-8f4a-46fe67a21729",
   "metadata": {},
   "source": [
    "np.savetxt()"
   ]
  },
  {
   "cell_type": "code",
   "execution_count": 25,
   "id": "d08b5831-0d80-42c4-9636-eb8088006b64",
   "metadata": {},
   "outputs": [],
   "source": [
    "lending_co = np.genfromtxt('Lending-Company-Saving.csv',\n",
    "                           delimiter = ',', \n",
    "                           dtype = str)"
   ]
  },
  {
   "cell_type": "code",
   "execution_count": 26,
   "id": "e79fb6b4-6007-4770-8bc6-f55c8e051ff6",
   "metadata": {},
   "outputs": [],
   "source": [
    "np.savetxt(\"Lending-Company-Saving.txt\", lending_co, fmt = '%s', delimiter = ',')"
   ]
  },
  {
   "cell_type": "code",
   "execution_count": 27,
   "id": "45966ef8-7611-429d-934c-94213f8d8277",
   "metadata": {},
   "outputs": [
    {
     "name": "stdout",
     "output_type": "stream",
     "text": [
      "[['LoanID' 'StringID' 'Product' ... 'Location' 'Region' 'TotalPrice']\n",
      " ['1' 'id_1' 'Product B' ... 'Location 2' 'Region 2' '16600.0']\n",
      " ['2' 'id_2' 'Product B' ... 'Location 3' '' '16600.0']\n",
      " ...\n",
      " ['1041' 'id_1041' 'Product B' ... 'Location 23' 'Region 4' '16600.0']\n",
      " ['1042' 'id_1042' 'Product C' ... 'Location 52' 'Region 6' '15600.0']\n",
      " ['1043' 'id_1043' 'Product B' ... 'Location 142' 'Region 6' '16600.0']]\n"
     ]
    }
   ],
   "source": [
    "lending_data_savetxt = np.genfromtxt(\"Lending-Company-Saving.txt\", delimiter = ',', dtype = str)\n",
    "print(lending_data_savetxt)"
   ]
  },
  {
   "cell_type": "code",
   "execution_count": 28,
   "id": "855dd116-4c86-4c5b-82f4-5f2cdf1f85e3",
   "metadata": {},
   "outputs": [],
   "source": [
    "lending_data_save = np.load(\"Lending-Company-Saving.npy\")"
   ]
  },
  {
   "cell_type": "code",
   "execution_count": 29,
   "id": "d3b1b65d-4dac-4f77-8f21-56b153bef193",
   "metadata": {},
   "outputs": [
    {
     "data": {
      "text/plain": [
       "True"
      ]
     },
     "execution_count": 29,
     "metadata": {},
     "output_type": "execute_result"
    }
   ],
   "source": [
    "np.array_equal(lending_data_savetxt, lending_data_save)"
   ]
  },
  {
   "cell_type": "code",
   "execution_count": null,
   "id": "89164b29-a357-4352-9786-5c547bc1c67c",
   "metadata": {},
   "outputs": [],
   "source": []
  }
 ],
 "metadata": {
  "kernelspec": {
   "display_name": "Python 3 (ipykernel)",
   "language": "python",
   "name": "python3"
  },
  "language_info": {
   "codemirror_mode": {
    "name": "ipython",
    "version": 3
   },
   "file_extension": ".py",
   "mimetype": "text/x-python",
   "name": "python",
   "nbconvert_exporter": "python",
   "pygments_lexer": "ipython3",
   "version": "3.11.7"
  }
 },
 "nbformat": 4,
 "nbformat_minor": 5
}
