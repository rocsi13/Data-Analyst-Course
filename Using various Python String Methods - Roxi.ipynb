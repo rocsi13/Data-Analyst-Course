{
 "cells": [
  {
   "cell_type": "code",
   "execution_count": 1,
   "id": "505b150a-38c6-4ed8-90dc-64b565e8c7e5",
   "metadata": {},
   "outputs": [
    {
     "data": {
      "text/plain": [
       "'Price per unit'"
      ]
     },
     "execution_count": 1,
     "metadata": {},
     "output_type": "execute_result"
    }
   ],
   "source": [
    "s = 'Price per unit'\n",
    "s"
   ]
  },
  {
   "cell_type": "code",
   "execution_count": 2,
   "id": "d314d994-d191-485a-ab82-69ff4a810e68",
   "metadata": {},
   "outputs": [
    {
     "data": {
      "text/plain": [
       "'Cost per unit'"
      ]
     },
     "execution_count": 2,
     "metadata": {},
     "output_type": "execute_result"
    }
   ],
   "source": [
    "s1 = s.replace('Price', 'Cost')\n",
    "s1"
   ]
  },
  {
   "cell_type": "code",
   "execution_count": 3,
   "id": "cf82e9d0-f692-4d2d-85c2-a1ab0ddf79b6",
   "metadata": {},
   "outputs": [
    {
     "data": {
      "text/plain": [
       "True"
      ]
     },
     "execution_count": 3,
     "metadata": {},
     "output_type": "execute_result"
    }
   ],
   "source": [
    "s1.startswith('Cost')"
   ]
  },
  {
   "cell_type": "code",
   "execution_count": 4,
   "id": "ce36bea9-cffe-4fcb-90a7-678aea1b0316",
   "metadata": {},
   "outputs": [
    {
     "data": {
      "text/plain": [
       "False"
      ]
     },
     "execution_count": 4,
     "metadata": {},
     "output_type": "execute_result"
    }
   ],
   "source": [
    "s1.startswith('cost')"
   ]
  },
  {
   "cell_type": "code",
   "execution_count": 5,
   "id": "d93e46d8-64ba-49c9-b8fe-9d396fcecef9",
   "metadata": {},
   "outputs": [
    {
     "data": {
      "text/plain": [
       "False"
      ]
     },
     "execution_count": 5,
     "metadata": {},
     "output_type": "execute_result"
    }
   ],
   "source": [
    "s1.startswith('Price')"
   ]
  },
  {
   "cell_type": "code",
   "execution_count": 6,
   "id": "a330a505-cdff-45fc-aa0d-54829e399ec2",
   "metadata": {},
   "outputs": [
    {
     "data": {
      "text/plain": [
       "True"
      ]
     },
     "execution_count": 6,
     "metadata": {},
     "output_type": "execute_result"
    }
   ],
   "source": [
    "s1.endswith('nit')"
   ]
  },
  {
   "cell_type": "code",
   "execution_count": 7,
   "id": "6a964051-d78e-48d1-b8ce-1f6b38102fe0",
   "metadata": {},
   "outputs": [
    {
     "data": {
      "text/plain": [
       "False"
      ]
     },
     "execution_count": 7,
     "metadata": {},
     "output_type": "execute_result"
    }
   ],
   "source": [
    "s1.endswith('nits')"
   ]
  },
  {
   "cell_type": "code",
   "execution_count": 8,
   "id": "77ba807d-bcf6-4cf7-a05e-736ac870447d",
   "metadata": {},
   "outputs": [
    {
     "data": {
      "text/plain": [
       "'Cost per unit'"
      ]
     },
     "execution_count": 8,
     "metadata": {},
     "output_type": "execute_result"
    }
   ],
   "source": [
    "s1"
   ]
  },
  {
   "cell_type": "code",
   "execution_count": 9,
   "id": "6b9d28b5-d98b-4f3d-b190-87dbac8294ab",
   "metadata": {},
   "outputs": [
    {
     "data": {
      "text/plain": [
       "['Cost', 'per', 'unit']"
      ]
     },
     "execution_count": 9,
     "metadata": {},
     "output_type": "execute_result"
    }
   ],
   "source": [
    "s1.split()"
   ]
  },
  {
   "cell_type": "code",
   "execution_count": 10,
   "id": "4757b024-fa39-49b8-b38f-7aa620671c6a",
   "metadata": {},
   "outputs": [
    {
     "data": {
      "text/plain": [
       "3"
      ]
     },
     "execution_count": 10,
     "metadata": {},
     "output_type": "execute_result"
    }
   ],
   "source": [
    "len(s1.split())"
   ]
  },
  {
   "cell_type": "code",
   "execution_count": 12,
   "id": "9baa3d3c-15fe-48cf-9d0a-b656888d0622",
   "metadata": {},
   "outputs": [
    {
     "data": {
      "text/plain": [
       "['Cost', 'per', 'unit']"
      ]
     },
     "execution_count": 12,
     "metadata": {},
     "output_type": "execute_result"
    }
   ],
   "source": [
    "s1.split(' ')"
   ]
  },
  {
   "cell_type": "code",
   "execution_count": 13,
   "id": "233df046-771b-48ad-b17a-cd7ea10631c2",
   "metadata": {},
   "outputs": [
    {
     "ename": "ValueError",
     "evalue": "empty separator",
     "output_type": "error",
     "traceback": [
      "\u001b[1;31m---------------------------------------------------------------------------\u001b[0m",
      "\u001b[1;31mValueError\u001b[0m                                Traceback (most recent call last)",
      "Cell \u001b[1;32mIn[13], line 1\u001b[0m\n\u001b[1;32m----> 1\u001b[0m s1\u001b[38;5;241m.\u001b[39msplit(\u001b[38;5;124m'\u001b[39m\u001b[38;5;124m'\u001b[39m)\n",
      "\u001b[1;31mValueError\u001b[0m: empty separator"
     ]
    }
   ],
   "source": [
    "s1.split('')"
   ]
  },
  {
   "cell_type": "code",
   "execution_count": 14,
   "id": "1711356a-c27d-4d5a-ab5c-3a71a9d4c965",
   "metadata": {},
   "outputs": [
    {
     "data": {
      "text/plain": [
       "['Cost ', ' unit']"
      ]
     },
     "execution_count": 14,
     "metadata": {},
     "output_type": "execute_result"
    }
   ],
   "source": [
    "s1.split('per')"
   ]
  },
  {
   "cell_type": "code",
   "execution_count": 16,
   "id": "e6d43b88-b962-4682-af4c-a8f663ea04be",
   "metadata": {},
   "outputs": [
    {
     "data": {
      "text/plain": [
       "['Cost', 'per unit']"
      ]
     },
     "execution_count": 16,
     "metadata": {},
     "output_type": "execute_result"
    }
   ],
   "source": [
    "s1.split(' ', 1)"
   ]
  },
  {
   "cell_type": "code",
   "execution_count": 17,
   "id": "fc642c59-fd60-491b-8850-f99cbb2a1fcc",
   "metadata": {},
   "outputs": [],
   "source": [
    "s2 = 'Mr., John, Wilson'"
   ]
  },
  {
   "cell_type": "code",
   "execution_count": 18,
   "id": "fe9a1821-7206-4b1c-9ffb-a5746b445695",
   "metadata": {},
   "outputs": [
    {
     "data": {
      "text/plain": [
       "['Mr.', ' John', ' Wilson']"
      ]
     },
     "execution_count": 18,
     "metadata": {},
     "output_type": "execute_result"
    }
   ],
   "source": [
    "s2.split(',')"
   ]
  },
  {
   "cell_type": "code",
   "execution_count": 19,
   "id": "25b783f0-b009-450e-a0a1-939c21bfe28f",
   "metadata": {},
   "outputs": [
    {
     "data": {
      "text/plain": [
       "'Mr.'"
      ]
     },
     "execution_count": 19,
     "metadata": {},
     "output_type": "execute_result"
    }
   ],
   "source": [
    "s2.split(',')[0]"
   ]
  },
  {
   "cell_type": "code",
   "execution_count": 20,
   "id": "3df8c049-f82a-4674-bd94-2ec41131fb68",
   "metadata": {},
   "outputs": [],
   "source": [
    "s3 = 'Mrs. Amy Moore'"
   ]
  },
  {
   "cell_type": "code",
   "execution_count": 21,
   "id": "2f065674-c016-4c11-b999-272a82eacc29",
   "metadata": {},
   "outputs": [
    {
     "data": {
      "text/plain": [
       "'MRS. AMY MOORE'"
      ]
     },
     "execution_count": 21,
     "metadata": {},
     "output_type": "execute_result"
    }
   ],
   "source": [
    "s3.upper()"
   ]
  },
  {
   "cell_type": "code",
   "execution_count": 22,
   "id": "3688e7ab-419b-4ba1-ba26-057ed2da4b56",
   "metadata": {},
   "outputs": [
    {
     "data": {
      "text/plain": [
       "'mrs. amy moore'"
      ]
     },
     "execution_count": 22,
     "metadata": {},
     "output_type": "execute_result"
    }
   ],
   "source": [
    "s3.lower()"
   ]
  },
  {
   "cell_type": "code",
   "execution_count": 23,
   "id": "d9b1a153-a9d5-4f8f-a81d-dcdeaa213db4",
   "metadata": {},
   "outputs": [
    {
     "data": {
      "text/plain": [
       "'Mrs. amy moore'"
      ]
     },
     "execution_count": 23,
     "metadata": {},
     "output_type": "execute_result"
    }
   ],
   "source": [
    "s3.capitalize()"
   ]
  },
  {
   "cell_type": "code",
   "execution_count": 24,
   "id": "17ee2c7c-2cfc-401f-8746-6f1aad958570",
   "metadata": {},
   "outputs": [
    {
     "data": {
      "text/plain": [
       "'Mrs. Amy Moore'"
      ]
     },
     "execution_count": 24,
     "metadata": {},
     "output_type": "execute_result"
    }
   ],
   "source": [
    "s3.title()"
   ]
  },
  {
   "cell_type": "code",
   "execution_count": 25,
   "id": "3d1a98be-8693-42a9-9966-799823a2831f",
   "metadata": {},
   "outputs": [
    {
     "data": {
      "text/plain": [
       "True"
      ]
     },
     "execution_count": 25,
     "metadata": {},
     "output_type": "execute_result"
    }
   ],
   "source": [
    "s3 == s3.title()"
   ]
  },
  {
   "cell_type": "code",
   "execution_count": 26,
   "id": "c4f925fa-710f-420b-8904-0df46bcae537",
   "metadata": {},
   "outputs": [
    {
     "data": {
      "text/plain": [
       "'Cost Per Unit'"
      ]
     },
     "execution_count": 26,
     "metadata": {},
     "output_type": "execute_result"
    }
   ],
   "source": [
    "'Cost per unit'.title()"
   ]
  },
  {
   "cell_type": "code",
   "execution_count": 27,
   "id": "ed4c3d74-6347-4689-975d-5f8aa262bf12",
   "metadata": {},
   "outputs": [],
   "source": [
    "s4 = '  quarterly earnings report  '"
   ]
  },
  {
   "cell_type": "code",
   "execution_count": 28,
   "id": "c2ddd796-b3c4-4d0c-b4f0-9fe55963964d",
   "metadata": {},
   "outputs": [
    {
     "data": {
      "text/plain": [
       "'quarterly earnings report'"
      ]
     },
     "execution_count": 28,
     "metadata": {},
     "output_type": "execute_result"
    }
   ],
   "source": [
    "s4.strip()"
   ]
  },
  {
   "cell_type": "code",
   "execution_count": 29,
   "id": "28297968-800e-4ebd-a67f-5bae1771feed",
   "metadata": {},
   "outputs": [
    {
     "data": {
      "text/plain": [
       "'quarterly earnings report'"
      ]
     },
     "execution_count": 29,
     "metadata": {},
     "output_type": "execute_result"
    }
   ],
   "source": [
    "s4.strip(' ')"
   ]
  },
  {
   "cell_type": "code",
   "execution_count": 30,
   "id": "d6e69311-0973-490f-89b2-5ac825d009e2",
   "metadata": {},
   "outputs": [
    {
     "data": {
      "text/plain": [
       "'quarterly earnings report'"
      ]
     },
     "execution_count": 30,
     "metadata": {},
     "output_type": "execute_result"
    }
   ],
   "source": [
    "s4.strip(' r')"
   ]
  },
  {
   "cell_type": "code",
   "execution_count": 31,
   "id": "2953ea5b-df49-4b01-9fbf-ce460432c204",
   "metadata": {},
   "outputs": [
    {
     "data": {
      "text/plain": [
       "'uarterly earnings repor'"
      ]
     },
     "execution_count": 31,
     "metadata": {},
     "output_type": "execute_result"
    }
   ],
   "source": [
    "s4.strip(' qt')"
   ]
  },
  {
   "cell_type": "code",
   "execution_count": 32,
   "id": "3bb1d14e-9f24-459b-baa3-ae28873d55c7",
   "metadata": {},
   "outputs": [
    {
     "data": {
      "text/plain": [
       "'  quarterly earnings report  '"
      ]
     },
     "execution_count": 32,
     "metadata": {},
     "output_type": "execute_result"
    }
   ],
   "source": [
    "s4.strip('qt')"
   ]
  },
  {
   "cell_type": "code",
   "execution_count": 33,
   "id": "f5c56562-c828-4c36-b12d-d71555e1f53b",
   "metadata": {},
   "outputs": [
    {
     "data": {
      "text/plain": [
       "'quarterly earnings report  '"
      ]
     },
     "execution_count": 33,
     "metadata": {},
     "output_type": "execute_result"
    }
   ],
   "source": [
    "s4.lstrip()"
   ]
  },
  {
   "cell_type": "code",
   "execution_count": 34,
   "id": "8bddcc0b-bf4c-4dcf-ac8a-3644a8eb321f",
   "metadata": {},
   "outputs": [
    {
     "data": {
      "text/plain": [
       "'  quarterly earnings report'"
      ]
     },
     "execution_count": 34,
     "metadata": {},
     "output_type": "execute_result"
    }
   ],
   "source": [
    "s4.rstrip()"
   ]
  },
  {
   "cell_type": "code",
   "execution_count": 35,
   "id": "d7e97d84-ee0d-4cf7-8395-e76a8d17d4f5",
   "metadata": {},
   "outputs": [
    {
     "data": {
      "text/plain": [
       "'nings repo'"
      ]
     },
     "execution_count": 35,
     "metadata": {},
     "output_type": "execute_result"
    }
   ],
   "source": [
    "s4.strip(' quarterly')"
   ]
  },
  {
   "cell_type": "code",
   "execution_count": 36,
   "id": "8e7b1575-d2ec-4d73-b195-fc788b0ddaa2",
   "metadata": {},
   "outputs": [
    {
     "data": {
      "text/plain": [
       "'nings report  '"
      ]
     },
     "execution_count": 36,
     "metadata": {},
     "output_type": "execute_result"
    }
   ],
   "source": [
    "s4.lstrip(' quarterly')"
   ]
  },
  {
   "cell_type": "code",
   "execution_count": 37,
   "id": "88e995ac-0a16-4b39-90d8-56c3b56fc3c3",
   "metadata": {},
   "outputs": [],
   "source": [
    "s5 = s4.strip()"
   ]
  },
  {
   "cell_type": "code",
   "execution_count": 38,
   "id": "f9ef0518-1840-4224-a351-a3ddff1c62f4",
   "metadata": {},
   "outputs": [
    {
     "data": {
      "text/plain": [
       "'quarterly earnings '"
      ]
     },
     "execution_count": 38,
     "metadata": {},
     "output_type": "execute_result"
    }
   ],
   "source": [
    "s5.rstrip('report')"
   ]
  },
  {
   "cell_type": "code",
   "execution_count": 39,
   "id": "900cfc57-840e-4360-a816-a8a3b57bab45",
   "metadata": {},
   "outputs": [
    {
     "data": {
      "text/plain": [
       "' earnings report'"
      ]
     },
     "execution_count": 39,
     "metadata": {},
     "output_type": "execute_result"
    }
   ],
   "source": [
    "s5.lstrip('quarterly')"
   ]
  },
  {
   "cell_type": "code",
   "execution_count": 40,
   "id": "731df789-9a86-410b-8d9f-c6c319edb3ac",
   "metadata": {},
   "outputs": [],
   "source": [
    "s6 = ' %&!quarterly earnings report *'"
   ]
  },
  {
   "cell_type": "code",
   "execution_count": 41,
   "id": "1dafbb66-9e88-4272-a757-0c127f351e14",
   "metadata": {},
   "outputs": [
    {
     "data": {
      "text/plain": [
       "'quarterly earnings report'"
      ]
     },
     "execution_count": 41,
     "metadata": {},
     "output_type": "execute_result"
    }
   ],
   "source": [
    "s6.strip(' @#$%^!&*')"
   ]
  },
  {
   "cell_type": "code",
   "execution_count": null,
   "id": "defbeaca-1a39-4dcf-afc6-697af3f88b16",
   "metadata": {},
   "outputs": [],
   "source": []
  }
 ],
 "metadata": {
  "kernelspec": {
   "display_name": "Python 3 (ipykernel)",
   "language": "python",
   "name": "python3"
  },
  "language_info": {
   "codemirror_mode": {
    "name": "ipython",
    "version": 3
   },
   "file_extension": ".py",
   "mimetype": "text/x-python",
   "name": "python",
   "nbconvert_exporter": "python",
   "pygments_lexer": "ipython3",
   "version": "3.11.7"
  }
 },
 "nbformat": 4,
 "nbformat_minor": 5
}
